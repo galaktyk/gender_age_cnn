{
 "cells": [
  {
   "cell_type": "code",
   "execution_count": 31,
   "metadata": {},
   "outputs": [],
   "source": [
    "import numpy as np\n",
    "import cv2\n",
    "from keras import backend as K\n",
    "from keras.layers import Input, Dense, Flatten, Dropout, Concatenate\n",
    "from keras.models import Model\n",
    "import keras\n",
    "from keras.layers.convolutional import Conv2D\n",
    "from keras.layers.pooling import MaxPooling2D\n",
    "from keras.layers.normalization import BatchNormalization\n",
    "from keras.callbacks import EarlyStopping\n",
    "from keras.preprocessing.image import load_img,img_to_array\n",
    "from keras.optimizers import Adam,SGD\n",
    "from numpy import genfromtxt\n",
    "from keras.models import load_model\n",
    "%matplotlib inline\n",
    "import matplotlib.pyplot as plt\n",
    "from keras import regularizers\n",
    "import sys\n",
    "from IPython.display import SVG\n",
    "from keras.utils.vis_utils import model_to_dot"
   ]
  },
  {
   "cell_type": "code",
   "execution_count": 22,
   "metadata": {},
   "outputs": [],
   "source": [
    "def create_model():\n",
    "    input_im = Input(shape=(256,256,3))\n",
    "\n",
    "    x = Conv2D(96, kernel_size=7, activation='relu')(input_im)\n",
    "    x = MaxPooling2D(pool_size=(2, 2))(x)\n",
    "\n",
    "    x = Conv2D(256, kernel_size=5, activation='relu')(x)\n",
    "    x = MaxPooling2D(pool_size=(2, 2))(x)\n",
    "    x = Dropout(0.25)(x)\n",
    "\n",
    "\n",
    "    x = Conv2D(384, kernel_size=3, activation='relu')(x)\n",
    "    x = MaxPooling2D(pool_size=(2, 2))(x)\n",
    "    x = Dropout(0.25)(x)\n",
    "  \n",
    "    \n",
    "    x = Dense(1024, activation='relu')(x)    \n",
    "   \n",
    "    x = Flatten()(x)\n",
    "        \n",
    "    gen = Dense(2, activation='softmax')(x)    \n",
    "    age = Dense(8, activation='softmax')(x)\n",
    "\n",
    "    model = Model(inputs=input_im, outputs=[gen,age]) \n",
    "\n",
    "    return model   \n",
    "model=create_model()\n",
    "\n",
    "model.compile(loss='categorical_crossentropy',optimizer='Adam', metrics=['accuracy'])\n",
    "#SVG(model_to_dot(model).create(prog='dot', format='svg'))"
   ]
  },
  {
   "cell_type": "code",
   "execution_count": 23,
   "metadata": {},
   "outputs": [],
   "source": [
    "# usage : custom_gen(range(0,3000+1))\n",
    "def custom_gen(_anns,use_range,batch_size):\n",
    "    while True:\n",
    "        image_data = []\n",
    "        label_data_gender = []\n",
    "        label_data_age = []\n",
    "        start_indx = np.random.randint(low=use_range[0],high=use_range[-batch_size])\n",
    "        \n",
    "        # Read anns\n",
    "        batch_row = _anns[start_indx:start_indx+batch_size]       \n",
    "                    \n",
    "        \n",
    "        # Read images\n",
    "        for row in batch_row:\n",
    "            im = load_img('images/'+row[0]+'/'+row[2]+'.'+row[1],target_size=(256, 256,3))  #PIL Image          \n",
    "            im = img_to_array(im) # Numpy\n",
    "            im = im/255.\n",
    "            image_data.append(im)               \n",
    "            \n",
    "            label_data_gender.append(np.fromstring(row[5], sep=' ')) # target gender\n",
    "            label_data_age.append(np.fromstring(row[6], sep=' ')) # target gender\n",
    "            \n",
    "   \n",
    "        image_data = np.array(image_data)\n",
    " \n",
    "        \n",
    "        yield( image_data, [label_data_gender,label_data_age] )       \n",
    "        "
   ]
  },
  {
   "cell_type": "code",
   "execution_count": 29,
   "metadata": {},
   "outputs": [
    {
     "name": "stdout",
     "output_type": "stream",
     "text": [
      "train_range :  0 - 100 \n",
      "val_range 0 - 100\n"
     ]
    }
   ],
   "source": [
    "# Read CSV annotations\n",
    "train_anns = genfromtxt('anns/'+'train_anns.csv', delimiter=',',dtype=str)\n",
    "val_anns = genfromtxt('anns/'+'val_anns.csv', delimiter=',',dtype=str)\n",
    "np.random.shuffle(train_anns)\n",
    "np.random.shuffle(val_anns)\n",
    "\n",
    "train_range = range(0,100+1) # all = 10000\n",
    "val_range = range(0,100+1) # all = 1332\n",
    "\n",
    "print('train_range : ',train_range[0],'-',train_range[-1],\\\n",
    "      '\\nval_range',val_range[0],'-',val_range[-1])\n",
    "batch_size = 4"
   ]
  },
  {
   "cell_type": "markdown",
   "metadata": {},
   "source": [
    "# TRAIN"
   ]
  },
  {
   "cell_type": "code",
   "execution_count": 35,
   "metadata": {},
   "outputs": [
    {
     "name": "stdout",
     "output_type": "stream",
     "text": [
      "Epoch 1/13\n",
      "25/25 [==============================] - 46s 2s/step - loss: 2.5126 - dense_23_loss: 0.6904 - dense_24_loss: 1.8223 - dense_23_acc: 0.5900 - dense_24_acc: 0.3200 - val_loss: 2.6727 - val_dense_23_loss: 0.6952 - val_dense_24_loss: 1.9775 - val_dense_23_acc: 0.5000 - val_dense_24_acc: 0.3300\n",
      "Epoch 2/13\n",
      "25/25 [==============================] - 46s 2s/step - loss: 2.6623 - dense_23_loss: 0.6875 - dense_24_loss: 1.9748 - dense_23_acc: 0.5700 - dense_24_acc: 0.1900 - val_loss: 2.7112 - val_dense_23_loss: 0.6737 - val_dense_24_loss: 2.0375 - val_dense_23_acc: 0.6000 - val_dense_24_acc: 0.2900\n",
      "Epoch 3/13\n",
      "25/25 [==============================] - 46s 2s/step - loss: 2.5546 - dense_23_loss: 0.6547 - dense_24_loss: 1.8999 - dense_23_acc: 0.6700 - dense_24_acc: 0.2400 - val_loss: 2.7819 - val_dense_23_loss: 0.6796 - val_dense_24_loss: 2.1023 - val_dense_23_acc: 0.5700 - val_dense_24_acc: 0.3400\n",
      "Epoch 4/13\n",
      "25/25 [==============================] - 46s 2s/step - loss: 2.6659 - dense_23_loss: 0.7394 - dense_24_loss: 1.9265 - dense_23_acc: 0.4300 - dense_24_acc: 0.1800 - val_loss: 3.0445 - val_dense_23_loss: 0.8006 - val_dense_24_loss: 2.2439 - val_dense_23_acc: 0.4600 - val_dense_24_acc: 0.2600\n",
      "Epoch 00004: early stopping\n"
     ]
    }
   ],
   "source": [
    "early_stopping = EarlyStopping(monitor='val_dense_23_acc', min_delta=0, patience=0, verbose=1)\n",
    "history = model.fit_generator(\n",
    "        custom_gen(train_anns,train_range,batch_size), \n",
    "        steps_per_epoch=max(1, len(train_range)//batch_size),\n",
    "        epochs=999,        \n",
    "        validation_data=custom_gen(val_anns,val_range,batch_size),\n",
    "        validation_steps=max(1, len(val_range)//batch_size),\n",
    "        callbacks=[early_stopping])"
   ]
  },
  {
   "cell_type": "markdown",
   "metadata": {},
   "source": [
    "# TEST"
   ]
  },
  {
   "cell_type": "code",
   "execution_count": 37,
   "metadata": {},
   "outputs": [
    {
     "name": "stdout",
     "output_type": "stream",
     "text": [
      "test images : 199\n",
      "correct-gender :  95 prob-0.48 \n",
      "correct-age :  45 prob-0.23\n"
     ]
    }
   ],
   "source": [
    "gender_dict = ['m','f']\n",
    "age_dict = ['(0-2)','(4-6)','(8-12)','(15-20)','(25-32)','(38-43)','(48-53)','(60-100)']\n",
    "\n",
    "true_gen = 0\n",
    "true_age = 0 \n",
    "for i in range(0,200):\n",
    "    sys.stdout.write(\"\\r\" + 'test images : '+str(i))\n",
    "    sys.stdout.flush()\n",
    "    #rand_indx = np.random.randint(low=0,high=1333)\n",
    "    #rowp = val_anns[rand_indx]\n",
    "    rowp = val_anns[i]\n",
    "    im_ori = load_img('images/'+rowp[0]+'/'+rowp[2]+'.'+rowp[1],target_size=(256, 256,3))\n",
    "\n",
    "    im = img_to_array(im_ori)\n",
    "    im = im/255.\n",
    "    im = np.expand_dims(im, axis=0)\n",
    "\n",
    "    genderp,agep = model.predict(im)\n",
    "    \n",
    "    if rowp[4]==gender_dict[genderp.argmax()]:\n",
    "        true_gen += 1\n",
    "    if rowp[3]==age_dict[agep.argmax()]:\n",
    "        true_age += 1\n",
    "    \n",
    "    \n",
    "    #print(rowp[4]==gender_dict[genderp.argmax()],'\\t',rowp[4],'\\t\\t|',gender_dict[genderp.argmax()],np.amax(genderp))\n",
    "    #print(rowp[3]==age_dict[agep.argmax()],'\\t',rowp[3],'\\t|',age_dict[agep.argmax()],np.amax(agep))\n",
    "\n",
    "    #display(im_ori)\n",
    "   \n",
    "print('\\ncorrect-gender : ','{:d} prob-{:.2f}'.format(true_gen,true_gen/i),\\\n",
    "      '\\ncorrect-age : ','{:d} prob-{:.2f}'.format(true_age,true_age/i)) "
   ]
  },
  {
   "cell_type": "code",
   "execution_count": null,
   "metadata": {},
   "outputs": [],
   "source": []
  },
  {
   "cell_type": "code",
   "execution_count": null,
   "metadata": {},
   "outputs": [],
   "source": [
    "def reset_weights(model):\n",
    "    session = K.get_session()\n",
    "    for layer in model.layers: \n",
    "        if hasattr(layer, 'kernel_initializer'):\n",
    "            layer.kernel.initializer.run(session=session)"
   ]
  },
  {
   "cell_type": "code",
   "execution_count": null,
   "metadata": {},
   "outputs": [],
   "source": [
    "reset_weights(model)"
   ]
  },
  {
   "cell_type": "code",
   "execution_count": null,
   "metadata": {},
   "outputs": [],
   "source": [
    "print (model.get_weights())"
   ]
  },
  {
   "cell_type": "code",
   "execution_count": null,
   "metadata": {},
   "outputs": [],
   "source": [
    "model.save('my_model.h5')"
   ]
  },
  {
   "cell_type": "code",
   "execution_count": null,
   "metadata": {},
   "outputs": [],
   "source": [
    "model = load_model('my_model.h5')"
   ]
  },
  {
   "cell_type": "code",
   "execution_count": null,
   "metadata": {},
   "outputs": [],
   "source": []
  },
  {
   "cell_type": "code",
   "execution_count": null,
   "metadata": {},
   "outputs": [],
   "source": []
  },
  {
   "cell_type": "code",
   "execution_count": null,
   "metadata": {},
   "outputs": [],
   "source": []
  },
  {
   "cell_type": "code",
   "execution_count": null,
   "metadata": {},
   "outputs": [],
   "source": []
  },
  {
   "cell_type": "code",
   "execution_count": null,
   "metadata": {},
   "outputs": [],
   "source": []
  },
  {
   "cell_type": "code",
   "execution_count": null,
   "metadata": {},
   "outputs": [],
   "source": []
  }
 ],
 "metadata": {
  "kernelspec": {
   "display_name": "Python 3",
   "language": "python",
   "name": "python3"
  },
  "language_info": {
   "codemirror_mode": {
    "name": "ipython",
    "version": 3
   },
   "file_extension": ".py",
   "mimetype": "text/x-python",
   "name": "python",
   "nbconvert_exporter": "python",
   "pygments_lexer": "ipython3",
   "version": "3.6.6"
  }
 },
 "nbformat": 4,
 "nbformat_minor": 2
}
