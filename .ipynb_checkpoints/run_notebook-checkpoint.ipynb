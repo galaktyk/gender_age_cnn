{
 "cells": [
  {
   "cell_type": "code",
   "execution_count": 1,
   "metadata": {},
   "outputs": [
    {
     "name": "stderr",
     "output_type": "stream",
     "text": [
      "Using TensorFlow backend.\n"
     ]
    }
   ],
   "source": [
    "import numpy as np\n",
    "import cv2\n",
    "from keras import backend as K\n",
    "from keras.layers import Input, Dense, Flatten, Dropout, Concatenate\n",
    "from keras.models import Model\n",
    "import keras\n",
    "from keras.layers.convolutional import Conv2D\n",
    "from keras.layers.pooling import MaxPooling2D\n",
    "from keras.layers.normalization import BatchNormalization\n",
    "from keras.callbacks import EarlyStopping\n",
    "from keras.preprocessing.image import load_img,img_to_array\n",
    "from keras.optimizers import Adam,SGD\n",
    "from numpy import genfromtxt\n",
    "from keras.models import load_model\n",
    "%matplotlib inline\n",
    "import matplotlib.pyplot as plt\n",
    "from keras import regularizers\n",
    "import sys\n",
    "from IPython.display import SVG\n",
    "from keras.utils.vis_utils import model_to_dot"
   ]
  },
  {
   "cell_type": "code",
<<<<<<< Updated upstream
   "execution_count": 20,
=======
   "execution_count": 5,
>>>>>>> Stashed changes
   "metadata": {},
   "outputs": [
    {
     "data": {
      "image/svg+xml": [
<<<<<<< Updated upstream
       "<svg height=\"994pt\" viewBox=\"0.00 0.00 230.00 994.00\" width=\"230pt\" xmlns=\"http://www.w3.org/2000/svg\" xmlns:xlink=\"http://www.w3.org/1999/xlink\">\n",
       "<g class=\"graph\" id=\"graph0\" transform=\"scale(1 1) rotate(0) translate(4 990)\">\n",
       "<title>G</title>\n",
       "<polygon fill=\"white\" points=\"-4,4 -4,-990 226,-990 226,4 -4,4\" stroke=\"none\"/>\n",
       "<!-- 139761462763080 -->\n",
       "<g class=\"node\" id=\"node1\"><title>139761462763080</title>\n",
       "<polygon fill=\"none\" points=\"48.5,-949.5 48.5,-985.5 173.5,-985.5 173.5,-949.5 48.5,-949.5\" stroke=\"black\"/>\n",
       "<text font-family=\"Times,serif\" font-size=\"14.00\" text-anchor=\"middle\" x=\"111\" y=\"-963.8\">input_1: InputLayer</text>\n",
       "</g>\n",
       "<!-- 139761462763136 -->\n",
       "<g class=\"node\" id=\"node2\"><title>139761462763136</title>\n",
       "<polygon fill=\"none\" points=\"49.5,-876.5 49.5,-912.5 172.5,-912.5 172.5,-876.5 49.5,-876.5\" stroke=\"black\"/>\n",
       "<text font-family=\"Times,serif\" font-size=\"14.00\" text-anchor=\"middle\" x=\"111\" y=\"-890.8\">conv2d_1: Conv2D</text>\n",
       "</g>\n",
       "<!-- 139761462763080&#45;&gt;139761462763136 -->\n",
       "<g class=\"edge\" id=\"edge1\"><title>139761462763080-&gt;139761462763136</title>\n",
       "<path d=\"M111,-949.313C111,-941.289 111,-931.547 111,-922.569\" fill=\"none\" stroke=\"black\"/>\n",
       "<polygon fill=\"black\" points=\"114.5,-922.529 111,-912.529 107.5,-922.529 114.5,-922.529\" stroke=\"black\"/>\n",
       "</g>\n",
       "<!-- 139761462722688 -->\n",
       "<g class=\"node\" id=\"node3\"><title>139761462722688</title>\n",
       "<polygon fill=\"none\" points=\"7.5,-803.5 7.5,-839.5 214.5,-839.5 214.5,-803.5 7.5,-803.5\" stroke=\"black\"/>\n",
       "<text font-family=\"Times,serif\" font-size=\"14.00\" text-anchor=\"middle\" x=\"111\" y=\"-817.8\">max_pooling2d_1: MaxPooling2D</text>\n",
       "</g>\n",
       "<!-- 139761462763136&#45;&gt;139761462722688 -->\n",
       "<g class=\"edge\" id=\"edge2\"><title>139761462763136-&gt;139761462722688</title>\n",
       "<path d=\"M111,-876.313C111,-868.289 111,-858.547 111,-849.569\" fill=\"none\" stroke=\"black\"/>\n",
       "<polygon fill=\"black\" points=\"114.5,-849.529 111,-839.529 107.5,-849.529 114.5,-849.529\" stroke=\"black\"/>\n",
       "</g>\n",
       "<!-- 139761462723024 -->\n",
       "<g class=\"node\" id=\"node4\"><title>139761462723024</title>\n",
       "<polygon fill=\"none\" points=\"49.5,-730.5 49.5,-766.5 172.5,-766.5 172.5,-730.5 49.5,-730.5\" stroke=\"black\"/>\n",
       "<text font-family=\"Times,serif\" font-size=\"14.00\" text-anchor=\"middle\" x=\"111\" y=\"-744.8\">conv2d_2: Conv2D</text>\n",
       "</g>\n",
       "<!-- 139761462722688&#45;&gt;139761462723024 -->\n",
       "<g class=\"edge\" id=\"edge3\"><title>139761462722688-&gt;139761462723024</title>\n",
       "<path d=\"M111,-803.313C111,-795.289 111,-785.547 111,-776.569\" fill=\"none\" stroke=\"black\"/>\n",
       "<polygon fill=\"black\" points=\"114.5,-776.529 111,-766.529 107.5,-776.529 114.5,-776.529\" stroke=\"black\"/>\n",
       "</g>\n",
       "<!-- 139761462321504 -->\n",
       "<g class=\"node\" id=\"node5\"><title>139761462321504</title>\n",
       "<polygon fill=\"none\" points=\"7.5,-657.5 7.5,-693.5 214.5,-693.5 214.5,-657.5 7.5,-657.5\" stroke=\"black\"/>\n",
       "<text font-family=\"Times,serif\" font-size=\"14.00\" text-anchor=\"middle\" x=\"111\" y=\"-671.8\">max_pooling2d_2: MaxPooling2D</text>\n",
       "</g>\n",
       "<!-- 139761462723024&#45;&gt;139761462321504 -->\n",
       "<g class=\"edge\" id=\"edge4\"><title>139761462723024-&gt;139761462321504</title>\n",
       "<path d=\"M111,-730.313C111,-722.289 111,-712.547 111,-703.569\" fill=\"none\" stroke=\"black\"/>\n",
       "<polygon fill=\"black\" points=\"114.5,-703.529 111,-693.529 107.5,-703.529 114.5,-703.529\" stroke=\"black\"/>\n",
       "</g>\n",
       "<!-- 139761462324080 -->\n",
       "<g class=\"node\" id=\"node6\"><title>139761462324080</title>\n",
       "<polygon fill=\"none\" points=\"49.5,-584.5 49.5,-620.5 172.5,-620.5 172.5,-584.5 49.5,-584.5\" stroke=\"black\"/>\n",
       "<text font-family=\"Times,serif\" font-size=\"14.00\" text-anchor=\"middle\" x=\"111\" y=\"-598.8\">conv2d_3: Conv2D</text>\n",
       "</g>\n",
       "<!-- 139761462321504&#45;&gt;139761462324080 -->\n",
       "<g class=\"edge\" id=\"edge5\"><title>139761462321504-&gt;139761462324080</title>\n",
       "<path d=\"M111,-657.313C111,-649.289 111,-639.547 111,-630.569\" fill=\"none\" stroke=\"black\"/>\n",
       "<polygon fill=\"black\" points=\"114.5,-630.529 111,-620.529 107.5,-630.529 114.5,-630.529\" stroke=\"black\"/>\n",
       "</g>\n",
       "<!-- 139761462429288 -->\n",
       "<g class=\"node\" id=\"node7\"><title>139761462429288</title>\n",
       "<polygon fill=\"none\" points=\"7.5,-511.5 7.5,-547.5 214.5,-547.5 214.5,-511.5 7.5,-511.5\" stroke=\"black\"/>\n",
       "<text font-family=\"Times,serif\" font-size=\"14.00\" text-anchor=\"middle\" x=\"111\" y=\"-525.8\">max_pooling2d_3: MaxPooling2D</text>\n",
       "</g>\n",
       "<!-- 139761462324080&#45;&gt;139761462429288 -->\n",
       "<g class=\"edge\" id=\"edge6\"><title>139761462324080-&gt;139761462429288</title>\n",
       "<path d=\"M111,-584.313C111,-576.289 111,-566.547 111,-557.569\" fill=\"none\" stroke=\"black\"/>\n",
       "<polygon fill=\"black\" points=\"114.5,-557.529 111,-547.529 107.5,-557.529 114.5,-557.529\" stroke=\"black\"/>\n",
       "</g>\n",
       "<!-- 139761462014640 -->\n",
       "<g class=\"node\" id=\"node8\"><title>139761462014640</title>\n",
       "<polygon fill=\"none\" points=\"48.5,-438.5 48.5,-474.5 173.5,-474.5 173.5,-438.5 48.5,-438.5\" stroke=\"black\"/>\n",
       "<text font-family=\"Times,serif\" font-size=\"14.00\" text-anchor=\"middle\" x=\"111\" y=\"-452.8\">dropout_1: Dropout</text>\n",
       "</g>\n",
       "<!-- 139761462429288&#45;&gt;139761462014640 -->\n",
       "<g class=\"edge\" id=\"edge7\"><title>139761462429288-&gt;139761462014640</title>\n",
       "<path d=\"M111,-511.313C111,-503.289 111,-493.547 111,-484.569\" fill=\"none\" stroke=\"black\"/>\n",
       "<polygon fill=\"black\" points=\"114.5,-484.529 111,-474.529 107.5,-484.529 114.5,-484.529\" stroke=\"black\"/>\n",
       "</g>\n",
       "<!-- 139761462014472 -->\n",
       "<g class=\"node\" id=\"node9\"><title>139761462014472</title>\n",
       "<polygon fill=\"none\" points=\"60,-365.5 60,-401.5 162,-401.5 162,-365.5 60,-365.5\" stroke=\"black\"/>\n",
       "<text font-family=\"Times,serif\" font-size=\"14.00\" text-anchor=\"middle\" x=\"111\" y=\"-379.8\">dense_1: Dense</text>\n",
       "</g>\n",
       "<!-- 139761462014640&#45;&gt;139761462014472 -->\n",
       "<g class=\"edge\" id=\"edge8\"><title>139761462014640-&gt;139761462014472</title>\n",
       "<path d=\"M111,-438.313C111,-430.289 111,-420.547 111,-411.569\" fill=\"none\" stroke=\"black\"/>\n",
       "<polygon fill=\"black\" points=\"114.5,-411.529 111,-401.529 107.5,-411.529 114.5,-411.529\" stroke=\"black\"/>\n",
       "</g>\n",
       "<!-- 139761462110640 -->\n",
       "<g class=\"node\" id=\"node10\"><title>139761462110640</title>\n",
       "<polygon fill=\"none\" points=\"48.5,-292.5 48.5,-328.5 173.5,-328.5 173.5,-292.5 48.5,-292.5\" stroke=\"black\"/>\n",
       "<text font-family=\"Times,serif\" font-size=\"14.00\" text-anchor=\"middle\" x=\"111\" y=\"-306.8\">dropout_2: Dropout</text>\n",
       "</g>\n",
       "<!-- 139761462014472&#45;&gt;139761462110640 -->\n",
       "<g class=\"edge\" id=\"edge9\"><title>139761462014472-&gt;139761462110640</title>\n",
       "<path d=\"M111,-365.313C111,-357.289 111,-347.547 111,-338.569\" fill=\"none\" stroke=\"black\"/>\n",
       "<polygon fill=\"black\" points=\"114.5,-338.529 111,-328.529 107.5,-338.529 114.5,-338.529\" stroke=\"black\"/>\n",
       "</g>\n",
       "<!-- 139761462110304 -->\n",
       "<g class=\"node\" id=\"node11\"><title>139761462110304</title>\n",
       "<polygon fill=\"none\" points=\"60,-219.5 60,-255.5 162,-255.5 162,-219.5 60,-219.5\" stroke=\"black\"/>\n",
       "<text font-family=\"Times,serif\" font-size=\"14.00\" text-anchor=\"middle\" x=\"111\" y=\"-233.8\">dense_2: Dense</text>\n",
       "</g>\n",
       "<!-- 139761462110640&#45;&gt;139761462110304 -->\n",
       "<g class=\"edge\" id=\"edge10\"><title>139761462110640-&gt;139761462110304</title>\n",
       "<path d=\"M111,-292.313C111,-284.289 111,-274.547 111,-265.569\" fill=\"none\" stroke=\"black\"/>\n",
       "<polygon fill=\"black\" points=\"114.5,-265.529 111,-255.529 107.5,-265.529 114.5,-265.529\" stroke=\"black\"/>\n",
       "</g>\n",
       "<!-- 139761461498376 -->\n",
       "<g class=\"node\" id=\"node12\"><title>139761461498376</title>\n",
       "<polygon fill=\"none\" points=\"48.5,-146.5 48.5,-182.5 173.5,-182.5 173.5,-146.5 48.5,-146.5\" stroke=\"black\"/>\n",
       "<text font-family=\"Times,serif\" font-size=\"14.00\" text-anchor=\"middle\" x=\"111\" y=\"-160.8\">dropout_3: Dropout</text>\n",
       "</g>\n",
       "<!-- 139761462110304&#45;&gt;139761461498376 -->\n",
       "<g class=\"edge\" id=\"edge11\"><title>139761462110304-&gt;139761461498376</title>\n",
       "<path d=\"M111,-219.313C111,-211.289 111,-201.547 111,-192.569\" fill=\"none\" stroke=\"black\"/>\n",
       "<polygon fill=\"black\" points=\"114.5,-192.529 111,-182.529 107.5,-192.529 114.5,-192.529\" stroke=\"black\"/>\n",
       "</g>\n",
       "<!-- 139761461499944 -->\n",
       "<g class=\"node\" id=\"node13\"><title>139761461499944</title>\n",
       "<polygon fill=\"none\" points=\"56,-73.5 56,-109.5 166,-109.5 166,-73.5 56,-73.5\" stroke=\"black\"/>\n",
       "<text font-family=\"Times,serif\" font-size=\"14.00\" text-anchor=\"middle\" x=\"111\" y=\"-87.8\">flatten_1: Flatten</text>\n",
       "</g>\n",
       "<!-- 139761461498376&#45;&gt;139761461499944 -->\n",
       "<g class=\"edge\" id=\"edge12\"><title>139761461498376-&gt;139761461499944</title>\n",
       "<path d=\"M111,-146.313C111,-138.289 111,-128.547 111,-119.569\" fill=\"none\" stroke=\"black\"/>\n",
       "<polygon fill=\"black\" points=\"114.5,-119.529 111,-109.529 107.5,-119.529 114.5,-119.529\" stroke=\"black\"/>\n",
       "</g>\n",
       "<!-- 139761461499776 -->\n",
       "<g class=\"node\" id=\"node14\"><title>139761461499776</title>\n",
       "<polygon fill=\"none\" points=\"0,-0.5 0,-36.5 102,-36.5 102,-0.5 0,-0.5\" stroke=\"black\"/>\n",
       "<text font-family=\"Times,serif\" font-size=\"14.00\" text-anchor=\"middle\" x=\"51\" y=\"-14.8\">dense_3: Dense</text>\n",
       "</g>\n",
       "<!-- 139761461499944&#45;&gt;139761461499776 -->\n",
       "<g class=\"edge\" id=\"edge13\"><title>139761461499944-&gt;139761461499776</title>\n",
       "<path d=\"M96.4757,-73.3129C89.1058,-64.5918 80.0199,-53.8402 71.912,-44.2459\" fill=\"none\" stroke=\"black\"/>\n",
       "<polygon fill=\"black\" points=\"74.5185,-41.9077 65.3906,-36.5288 69.1719,-46.4259 74.5185,-41.9077\" stroke=\"black\"/>\n",
       "</g>\n",
       "<!-- 139761373406768 -->\n",
       "<g class=\"node\" id=\"node15\"><title>139761373406768</title>\n",
       "<polygon fill=\"none\" points=\"120,-0.5 120,-36.5 222,-36.5 222,-0.5 120,-0.5\" stroke=\"black\"/>\n",
       "<text font-family=\"Times,serif\" font-size=\"14.00\" text-anchor=\"middle\" x=\"171\" y=\"-14.8\">dense_4: Dense</text>\n",
       "</g>\n",
       "<!-- 139761461499944&#45;&gt;139761373406768 -->\n",
       "<g class=\"edge\" id=\"edge14\"><title>139761461499944-&gt;139761373406768</title>\n",
       "<path d=\"M125.524,-73.3129C132.894,-64.5918 141.98,-53.8402 150.088,-44.2459\" fill=\"none\" stroke=\"black\"/>\n",
       "<polygon fill=\"black\" points=\"152.828,-46.4259 156.609,-36.5288 147.482,-41.9077 152.828,-46.4259\" stroke=\"black\"/>\n",
=======
       "<svg height=\"848pt\" viewBox=\"0.00 0.00 234.00 848.00\" width=\"234pt\" xmlns=\"http://www.w3.org/2000/svg\" xmlns:xlink=\"http://www.w3.org/1999/xlink\">\n",
       "<g class=\"graph\" id=\"graph0\" transform=\"scale(1 1) rotate(0) translate(4 844)\">\n",
       "<title>G</title>\n",
       "<polygon fill=\"white\" points=\"-4,4 -4,-844 230,-844 230,4 -4,4\" stroke=\"none\"/>\n",
       "<!-- 1737610941104 -->\n",
       "<g class=\"node\" id=\"node1\"><title>1737610941104</title>\n",
       "<polygon fill=\"none\" points=\"50,-803.5 50,-839.5 176,-839.5 176,-803.5 50,-803.5\" stroke=\"black\"/>\n",
       "<text font-family=\"Times New Roman,serif\" font-size=\"14.00\" text-anchor=\"middle\" x=\"113\" y=\"-817.8\">input_1: InputLayer</text>\n",
       "</g>\n",
       "<!-- 1737610942280 -->\n",
       "<g class=\"node\" id=\"node2\"><title>1737610942280</title>\n",
       "<polygon fill=\"none\" points=\"49.5,-730.5 49.5,-766.5 176.5,-766.5 176.5,-730.5 49.5,-730.5\" stroke=\"black\"/>\n",
       "<text font-family=\"Times New Roman,serif\" font-size=\"14.00\" text-anchor=\"middle\" x=\"113\" y=\"-744.8\">conv2d_1: Conv2D</text>\n",
       "</g>\n",
       "<!-- 1737610941104&#45;&gt;1737610942280 -->\n",
       "<g class=\"edge\" id=\"edge1\"><title>1737610941104-&gt;1737610942280</title>\n",
       "<path d=\"M113,-803.313C113,-795.289 113,-785.547 113,-776.569\" fill=\"none\" stroke=\"black\"/>\n",
       "<polygon fill=\"black\" points=\"116.5,-776.529 113,-766.529 109.5,-776.529 116.5,-776.529\" stroke=\"black\"/>\n",
       "</g>\n",
       "<!-- 1737610941664 -->\n",
       "<g class=\"node\" id=\"node3\"><title>1737610941664</title>\n",
       "<polygon fill=\"none\" points=\"8.5,-657.5 8.5,-693.5 217.5,-693.5 217.5,-657.5 8.5,-657.5\" stroke=\"black\"/>\n",
       "<text font-family=\"Times New Roman,serif\" font-size=\"14.00\" text-anchor=\"middle\" x=\"113\" y=\"-671.8\">max_pooling2d_1: MaxPooling2D</text>\n",
       "</g>\n",
       "<!-- 1737610942280&#45;&gt;1737610941664 -->\n",
       "<g class=\"edge\" id=\"edge2\"><title>1737610942280-&gt;1737610941664</title>\n",
       "<path d=\"M113,-730.313C113,-722.289 113,-712.547 113,-703.569\" fill=\"none\" stroke=\"black\"/>\n",
       "<polygon fill=\"black\" points=\"116.5,-703.529 113,-693.529 109.5,-703.529 116.5,-703.529\" stroke=\"black\"/>\n",
       "</g>\n",
       "<!-- 1737610942056 -->\n",
       "<g class=\"node\" id=\"node4\"><title>1737610942056</title>\n",
       "<polygon fill=\"none\" points=\"49.5,-584.5 49.5,-620.5 176.5,-620.5 176.5,-584.5 49.5,-584.5\" stroke=\"black\"/>\n",
       "<text font-family=\"Times New Roman,serif\" font-size=\"14.00\" text-anchor=\"middle\" x=\"113\" y=\"-598.8\">conv2d_2: Conv2D</text>\n",
       "</g>\n",
       "<!-- 1737610941664&#45;&gt;1737610942056 -->\n",
       "<g class=\"edge\" id=\"edge3\"><title>1737610941664-&gt;1737610942056</title>\n",
       "<path d=\"M113,-657.313C113,-649.289 113,-639.547 113,-630.569\" fill=\"none\" stroke=\"black\"/>\n",
       "<polygon fill=\"black\" points=\"116.5,-630.529 113,-620.529 109.5,-630.529 116.5,-630.529\" stroke=\"black\"/>\n",
       "</g>\n",
       "<!-- 1737611082440 -->\n",
       "<g class=\"node\" id=\"node5\"><title>1737611082440</title>\n",
       "<polygon fill=\"none\" points=\"8.5,-511.5 8.5,-547.5 217.5,-547.5 217.5,-511.5 8.5,-511.5\" stroke=\"black\"/>\n",
       "<text font-family=\"Times New Roman,serif\" font-size=\"14.00\" text-anchor=\"middle\" x=\"113\" y=\"-525.8\">max_pooling2d_2: MaxPooling2D</text>\n",
       "</g>\n",
       "<!-- 1737610942056&#45;&gt;1737611082440 -->\n",
       "<g class=\"edge\" id=\"edge4\"><title>1737610942056-&gt;1737611082440</title>\n",
       "<path d=\"M113,-584.313C113,-576.289 113,-566.547 113,-557.569\" fill=\"none\" stroke=\"black\"/>\n",
       "<polygon fill=\"black\" points=\"116.5,-557.529 113,-547.529 109.5,-557.529 116.5,-557.529\" stroke=\"black\"/>\n",
       "</g>\n",
       "<!-- 1737615049616 -->\n",
       "<g class=\"node\" id=\"node6\"><title>1737615049616</title>\n",
       "<polygon fill=\"none\" points=\"48,-438.5 48,-474.5 178,-474.5 178,-438.5 48,-438.5\" stroke=\"black\"/>\n",
       "<text font-family=\"Times New Roman,serif\" font-size=\"14.00\" text-anchor=\"middle\" x=\"113\" y=\"-452.8\">dropout_1: Dropout</text>\n",
       "</g>\n",
       "<!-- 1737611082440&#45;&gt;1737615049616 -->\n",
       "<g class=\"edge\" id=\"edge5\"><title>1737611082440-&gt;1737615049616</title>\n",
       "<path d=\"M113,-511.313C113,-503.289 113,-493.547 113,-484.569\" fill=\"none\" stroke=\"black\"/>\n",
       "<polygon fill=\"black\" points=\"116.5,-484.529 113,-474.529 109.5,-484.529 116.5,-484.529\" stroke=\"black\"/>\n",
       "</g>\n",
       "<!-- 1737615049448 -->\n",
       "<g class=\"node\" id=\"node7\"><title>1737615049448</title>\n",
       "<polygon fill=\"none\" points=\"49.5,-365.5 49.5,-401.5 176.5,-401.5 176.5,-365.5 49.5,-365.5\" stroke=\"black\"/>\n",
       "<text font-family=\"Times New Roman,serif\" font-size=\"14.00\" text-anchor=\"middle\" x=\"113\" y=\"-379.8\">conv2d_3: Conv2D</text>\n",
       "</g>\n",
       "<!-- 1737615049616&#45;&gt;1737615049448 -->\n",
       "<g class=\"edge\" id=\"edge6\"><title>1737615049616-&gt;1737615049448</title>\n",
       "<path d=\"M113,-438.313C113,-430.289 113,-420.547 113,-411.569\" fill=\"none\" stroke=\"black\"/>\n",
       "<polygon fill=\"black\" points=\"116.5,-411.529 113,-401.529 109.5,-411.529 116.5,-411.529\" stroke=\"black\"/>\n",
       "</g>\n",
       "<!-- 1737615179960 -->\n",
       "<g class=\"node\" id=\"node8\"><title>1737615179960</title>\n",
       "<polygon fill=\"none\" points=\"8.5,-292.5 8.5,-328.5 217.5,-328.5 217.5,-292.5 8.5,-292.5\" stroke=\"black\"/>\n",
       "<text font-family=\"Times New Roman,serif\" font-size=\"14.00\" text-anchor=\"middle\" x=\"113\" y=\"-306.8\">max_pooling2d_3: MaxPooling2D</text>\n",
       "</g>\n",
       "<!-- 1737615049448&#45;&gt;1737615179960 -->\n",
       "<g class=\"edge\" id=\"edge7\"><title>1737615049448-&gt;1737615179960</title>\n",
       "<path d=\"M113,-365.313C113,-357.289 113,-347.547 113,-338.569\" fill=\"none\" stroke=\"black\"/>\n",
       "<polygon fill=\"black\" points=\"116.5,-338.529 113,-328.529 109.5,-338.529 116.5,-338.529\" stroke=\"black\"/>\n",
       "</g>\n",
       "<!-- 1737615179904 -->\n",
       "<g class=\"node\" id=\"node9\"><title>1737615179904</title>\n",
       "<polygon fill=\"none\" points=\"48,-219.5 48,-255.5 178,-255.5 178,-219.5 48,-219.5\" stroke=\"black\"/>\n",
       "<text font-family=\"Times New Roman,serif\" font-size=\"14.00\" text-anchor=\"middle\" x=\"113\" y=\"-233.8\">dropout_2: Dropout</text>\n",
       "</g>\n",
       "<!-- 1737615179960&#45;&gt;1737615179904 -->\n",
       "<g class=\"edge\" id=\"edge8\"><title>1737615179960-&gt;1737615179904</title>\n",
       "<path d=\"M113,-292.313C113,-284.289 113,-274.547 113,-265.569\" fill=\"none\" stroke=\"black\"/>\n",
       "<polygon fill=\"black\" points=\"116.5,-265.529 113,-255.529 109.5,-265.529 116.5,-265.529\" stroke=\"black\"/>\n",
       "</g>\n",
       "<!-- 1737615182032 -->\n",
       "<g class=\"node\" id=\"node10\"><title>1737615182032</title>\n",
       "<polygon fill=\"none\" points=\"61,-146.5 61,-182.5 165,-182.5 165,-146.5 61,-146.5\" stroke=\"black\"/>\n",
       "<text font-family=\"Times New Roman,serif\" font-size=\"14.00\" text-anchor=\"middle\" x=\"113\" y=\"-160.8\">dense_1: Dense</text>\n",
       "</g>\n",
       "<!-- 1737615179904&#45;&gt;1737615182032 -->\n",
       "<g class=\"edge\" id=\"edge9\"><title>1737615179904-&gt;1737615182032</title>\n",
       "<path d=\"M113,-219.313C113,-211.289 113,-201.547 113,-192.569\" fill=\"none\" stroke=\"black\"/>\n",
       "<polygon fill=\"black\" points=\"116.5,-192.529 113,-182.529 109.5,-192.529 116.5,-192.529\" stroke=\"black\"/>\n",
       "</g>\n",
       "<!-- 1737615305920 -->\n",
       "<g class=\"node\" id=\"node11\"><title>1737615305920</title>\n",
       "<polygon fill=\"none\" points=\"58.5,-73.5 58.5,-109.5 167.5,-109.5 167.5,-73.5 58.5,-73.5\" stroke=\"black\"/>\n",
       "<text font-family=\"Times New Roman,serif\" font-size=\"14.00\" text-anchor=\"middle\" x=\"113\" y=\"-87.8\">flatten_1: Flatten</text>\n",
       "</g>\n",
       "<!-- 1737615182032&#45;&gt;1737615305920 -->\n",
       "<g class=\"edge\" id=\"edge10\"><title>1737615182032-&gt;1737615305920</title>\n",
       "<path d=\"M113,-146.313C113,-138.289 113,-128.547 113,-119.569\" fill=\"none\" stroke=\"black\"/>\n",
       "<polygon fill=\"black\" points=\"116.5,-119.529 113,-109.529 109.5,-119.529 116.5,-119.529\" stroke=\"black\"/>\n",
       "</g>\n",
       "<!-- 1737615455064 -->\n",
       "<g class=\"node\" id=\"node12\"><title>1737615455064</title>\n",
       "<polygon fill=\"none\" points=\"0,-0.5 0,-36.5 104,-36.5 104,-0.5 0,-0.5\" stroke=\"black\"/>\n",
       "<text font-family=\"Times New Roman,serif\" font-size=\"14.00\" text-anchor=\"middle\" x=\"52\" y=\"-14.8\">dense_2: Dense</text>\n",
       "</g>\n",
       "<!-- 1737615305920&#45;&gt;1737615455064 -->\n",
       "<g class=\"edge\" id=\"edge11\"><title>1737615305920-&gt;1737615455064</title>\n",
       "<path d=\"M98.2336,-73.3129C90.7409,-64.5918 81.5036,-53.8402 73.2606,-44.2459\" fill=\"none\" stroke=\"black\"/>\n",
       "<polygon fill=\"black\" points=\"75.8019,-41.833 66.6304,-36.5288 70.4924,-46.3947 75.8019,-41.833\" stroke=\"black\"/>\n",
       "</g>\n",
       "<!-- 1737616676624 -->\n",
       "<g class=\"node\" id=\"node13\"><title>1737616676624</title>\n",
       "<polygon fill=\"none\" points=\"122,-0.5 122,-36.5 226,-36.5 226,-0.5 122,-0.5\" stroke=\"black\"/>\n",
       "<text font-family=\"Times New Roman,serif\" font-size=\"14.00\" text-anchor=\"middle\" x=\"174\" y=\"-14.8\">dense_3: Dense</text>\n",
       "</g>\n",
       "<!-- 1737615305920&#45;&gt;1737616676624 -->\n",
       "<g class=\"edge\" id=\"edge12\"><title>1737615305920-&gt;1737616676624</title>\n",
       "<path d=\"M127.766,-73.3129C135.259,-64.5918 144.496,-53.8402 152.739,-44.2459\" fill=\"none\" stroke=\"black\"/>\n",
       "<polygon fill=\"black\" points=\"155.508,-46.3947 159.37,-36.5288 150.198,-41.833 155.508,-46.3947\" stroke=\"black\"/>\n",
>>>>>>> Stashed changes
       "</g>\n",
       "</g>\n",
       "</svg>"
      ],
      "text/plain": [
       "<IPython.core.display.SVG object>"
      ]
     },
<<<<<<< Updated upstream
     "execution_count": 20,
=======
     "execution_count": 5,
>>>>>>> Stashed changes
     "metadata": {},
     "output_type": "execute_result"
    }
   ],
   "source": [
    "K.clear_session()\n",
    "def create_model():\n",
    "    input_im = Input(shape=(256,256,3))\n",
    "\n",
    "    x = Conv2D(96, kernel_size=7, activation='relu')(input_im)\n",
    "    x = MaxPooling2D(pool_size=(2, 2))(x)\n",
    "\n",
    "    x = Conv2D(256, kernel_size=5, activation='relu')(x)\n",
    "    x = MaxPooling2D(pool_size=(2, 2))(x)\n",
    "   \n",
    "\n",
    "    x = Conv2D(384, kernel_size=3, activation='relu')(x)\n",
    "    x = MaxPooling2D(pool_size=(2, 2))(x)\n",
    "    x = Dropout(0.25)(x)\n",
    "  \n",
    "    \n",
    "    x = Dense(512, activation='relu')(x)\n",
    "    x = Dropout(0.25)(x)\n",
    "    x = Dense(1024, activation='relu')(x)\n",
    "    x = Dropout(0.25)(x)\n",
    "   \n",
    "    x = Flatten()(x)\n",
    "        \n",
    "    gen = Dense(2, activation='softmax')(x)    \n",
    "    age = Dense(8, activation='softmax')(x)\n",
    "\n",
    "    model = Model(inputs=input_im, outputs=[gen,age]) \n",
    "\n",
    "    return model   \n",
    "model=create_model()\n",
    "\n",
    "model.compile(loss='categorical_crossentropy',optimizer='Adam', metrics=['accuracy'])\n",
    "SVG(model_to_dot(model).create(prog='dot', format='svg'))"
   ]
  },
  {
   "cell_type": "code",
<<<<<<< Updated upstream
   "execution_count": 12,
=======
   "execution_count": 6,
>>>>>>> Stashed changes
   "metadata": {},
   "outputs": [],
   "source": [
    "# usage : custom_gen(range(0,3000+1))\n",
    "\n",
    "def custom_gen(_anns,use_range,batch_size):\n",
    "    while True:\n",
    "        image_data = []\n",
    "        label_data_gender = []\n",
    "        label_data_age = []\n",
    "        start_indx = np.random.randint(low=use_range[0],high=use_range[-batch_size])\n",
    "        \n",
    "        # Read anns\n",
    "        batch_row = _anns[start_indx:start_indx+batch_size]       \n",
    "                    \n",
    "        \n",
    "        # Read images\n",
    "        for row in batch_row:\n",
    "            im = load_img('images/'+row[0]+'/'+row[2]+'.'+row[1],target_size=(256, 256,3))  #PIL Image          \n",
    "            im = img_to_array(im) # Numpy\n",
    "            im = im/255.\n",
    "            image_data.append(im)               \n",
    "            \n",
    "            label_data_gender.append(np.fromstring(row[5], sep=' ')) # target gender\n",
    "            label_data_age.append(np.fromstring(row[6], sep=' ')) # target gender\n",
    "            \n",
    "   \n",
    "        image_data = np.array(image_data)\n",
    " \n",
    "        \n",
    "        yield( image_data, [label_data_gender,label_data_age] )       \n",
    "        "
   ]
  },
  {
   "cell_type": "code",
<<<<<<< Updated upstream
   "execution_count": 13,
=======
   "execution_count": 15,
>>>>>>> Stashed changes
   "metadata": {},
   "outputs": [
    {
     "name": "stdout",
     "output_type": "stream",
     "text": [
      "train_range :  0 - 100 \n",
<<<<<<< Updated upstream
      "val_range 0 - 200\n"
=======
      "val_range 0 - 50\n"
>>>>>>> Stashed changes
     ]
    }
   ],
   "source": [
    "# Read CSV annotations\n",
    "train_anns = genfromtxt('anns/'+'train_anns.csv', delimiter=',',dtype=str)\n",
    "val_anns = genfromtxt('anns/'+'val_anns.csv', delimiter=',',dtype=str)\n",
    "np.random.shuffle(train_anns)\n",
    "np.random.shuffle(val_anns)\n",
    "\n",
    "train_range = range(0,100+1) # all = 10000\n",
<<<<<<< Updated upstream
    "val_range = range(0,200+1) # all = 1332\n",
=======
    "val_range = range(0,50+1) # all = 1332\n",
>>>>>>> Stashed changes
    "\n",
    "print('train_range : ',train_range[0],'-',train_range[-1],\\\n",
    "      '\\nval_range',val_range[0],'-',val_range[-1])\n",
    "batch_size = 8"
   ]
  },
  {
   "cell_type": "markdown",
   "metadata": {},
   "source": [
    "# TRAIN"
   ]
  },
  {
   "cell_type": "code",
<<<<<<< Updated upstream
   "execution_count": 17,
=======
   "execution_count": 16,
>>>>>>> Stashed changes
   "metadata": {},
   "outputs": [
    {
     "name": "stdout",
     "output_type": "stream",
     "text": [
<<<<<<< Updated upstream
      "Epoch 1/1\n",
      "25/25 [==============================] - 58s 2s/step - loss: 2.8154 - dense_3_loss: 0.7040 - dense_4_loss: 2.1115 - dense_3_acc: 0.4700 - dense_4_acc: 0.2600 - val_loss: 2.7490 - val_dense_3_loss: 0.6950 - val_dense_4_loss: 2.0539 - val_dense_3_acc: 0.4800 - val_dense_4_acc: 0.2600\n"
=======
      "Epoch 1/999\n",
      "12/12 [==============================] - 11s 931ms/step - loss: 2.5238 - dense_2_loss: 0.6864 - dense_3_loss: 1.8374 - dense_2_acc: 0.5833 - dense_3_acc: 0.3854 - val_loss: 2.6253 - val_dense_2_loss: 0.7190 - val_dense_3_loss: 1.9063 - val_dense_2_acc: 0.3333 - val_dense_3_acc: 0.2708\n",
      "Epoch 2/999\n",
      "12/12 [==============================] - 11s 945ms/step - loss: 2.5479 - dense_2_loss: 0.6798 - dense_3_loss: 1.8681 - dense_2_acc: 0.5938 - dense_3_acc: 0.3646 - val_loss: 2.6067 - val_dense_2_loss: 0.6967 - val_dense_3_loss: 1.9099 - val_dense_2_acc: 0.5208 - val_dense_3_acc: 0.2917\n",
      "Epoch 3/999\n",
      "12/12 [==============================] - 11s 933ms/step - loss: 2.5480 - dense_2_loss: 0.6828 - dense_3_loss: 1.8652 - dense_2_acc: 0.5729 - dense_3_acc: 0.3229 - val_loss: 2.5508 - val_dense_2_loss: 0.7196 - val_dense_3_loss: 1.8313 - val_dense_2_acc: 0.4583 - val_dense_3_acc: 0.3542\n",
      "Epoch 00003: early stopping\n"
>>>>>>> Stashed changes
     ]
    }
   ],
   "source": [
<<<<<<< Updated upstream
    "early_stopping = EarlyStopping(monitor='val_dense_3_acc', min_delta=0.05, patience=0, verbose=1)\n",
=======
    "early_stopping = EarlyStopping(monitor='val_dense_2_acc', min_delta=0, patience=1, verbose=1)\n",
>>>>>>> Stashed changes
    "history = model.fit_generator(\n",
    "        custom_gen(train_anns,train_range,batch_size), \n",
    "        steps_per_epoch=max(1, len(train_range)//batch_size),\n",
    "        epochs=1,        \n",
    "        validation_data=custom_gen(val_anns,val_range,batch_size),\n",
    "        validation_steps=max(1, len(val_range)//batch_size),\n",
    "        callbacks=[early_stopping])"
   ]
  },
  {
   "cell_type": "markdown",
   "metadata": {},
   "source": [
    "# TEST"
   ]
  },
  {
   "cell_type": "code",
<<<<<<< Updated upstream
   "execution_count": 19,
=======
   "execution_count": 14,
>>>>>>> Stashed changes
   "metadata": {},
   "outputs": [
    {
     "name": "stdout",
     "output_type": "stream",
     "text": [
<<<<<<< Updated upstream
      "test images : 99\n",
      "correct-gender :  52 prob-0.53 \n",
      "correct-age :  26 prob-0.26\n"
=======
      "test images : 199\n",
      "correct-gender :  117 prob-0.59 \n",
      "correct-age :  61 prob-0.31\n"
>>>>>>> Stashed changes
     ]
    }
   ],
   "source": [
    "gender_dict = ['m','f']\n",
    "age_dict = ['(0-2)','(4-6)','(8-12)','(15-20)','(25-32)','(38-43)','(48-53)','(60-100)']\n",
    "\n",
    "true_gen = 0\n",
    "true_age = 0 \n",
    "for i in range(0,100):\n",
    "    sys.stdout.write(\"\\r\" + 'test images : '+str(i))\n",
    "    sys.stdout.flush()\n",
    "    #rand_indx = np.random.randint(low=0,high=1333)\n",
    "    #rowp = val_anns[rand_indx]\n",
    "    rowp = val_anns[i]\n",
    "    im_ori = load_img('images/'+rowp[0]+'/'+rowp[2]+'.'+rowp[1],target_size=(256, 256,3))\n",
    "\n",
    "    im = img_to_array(im_ori)\n",
    "    im = im/255.\n",
    "    im = np.expand_dims(im, axis=0)\n",
    "    genderp,agep =model.predict(im)\n",
    "    \n",
    "    if rowp[4]==gender_dict[genderp.argmax()]:\n",
    "        true_gen += 1\n",
    "    if rowp[3]==age_dict[agep.argmax()]:\n",
    "        true_age += 1\n",
    "    \n",
    "    \n",
    "    #print(rowp[4]==gender_dict[genderp.argmax()],'\\t',rowp[4],'\\t\\t|',gender_dict[genderp.argmax()],np.amax(genderp))\n",
    "    #print(rowp[3]==age_dict[agep.argmax()],'\\t',rowp[3],'\\t|',age_dict[agep.argmax()],np.amax(agep))\n",
    "\n",
    "#    display(im_ori)\n",
    "   \n",
    "print('\\ncorrect-gender : ','{:d} prob-{:.2f}'.format(true_gen,true_gen/i),\\\n",
    "      '\\ncorrect-age : ','{:d} prob-{:.2f}'.format(true_age,true_age/i)) "
   ]
  },
  {
   "cell_type": "code",
   "execution_count": null,
   "metadata": {},
   "outputs": [],
   "source": []
  },
  {
   "cell_type": "code",
   "execution_count": null,
   "metadata": {},
   "outputs": [],
   "source": [
    "def reset_weights(model):\n",
    "    session = K.get_session()\n",
    "    for layer in model.layers: \n",
    "        if hasattr(layer, 'kernel_initializer'):\n",
    "            layer.kernel.initializer.run(session=session)"
   ]
  },
  {
   "cell_type": "code",
   "execution_count": null,
   "metadata": {},
   "outputs": [],
   "source": [
    "reset_weights(model)"
   ]
  },
  {
   "cell_type": "code",
   "execution_count": null,
   "metadata": {},
   "outputs": [],
   "source": [
    "print (model.get_weights())"
   ]
  },
  {
   "cell_type": "code",
   "execution_count": null,
   "metadata": {},
   "outputs": [],
   "source": [
    "model.save('my_model.h5')"
   ]
  },
  {
   "cell_type": "code",
   "execution_count": null,
   "metadata": {},
   "outputs": [],
   "source": [
    "model = load_model('my_model.h5')"
   ]
  },
  {
   "cell_type": "code",
   "execution_count": null,
   "metadata": {},
   "outputs": [],
   "source": []
  },
  {
   "cell_type": "code",
   "execution_count": null,
   "metadata": {},
   "outputs": [],
   "source": []
  },
  {
   "cell_type": "code",
   "execution_count": null,
   "metadata": {},
   "outputs": [],
   "source": []
  },
  {
   "cell_type": "code",
   "execution_count": null,
   "metadata": {},
   "outputs": [],
   "source": []
  },
  {
   "cell_type": "code",
   "execution_count": null,
   "metadata": {},
   "outputs": [],
   "source": []
  },
  {
   "cell_type": "code",
   "execution_count": null,
   "metadata": {},
   "outputs": [],
   "source": []
  }
 ],
 "metadata": {
  "kernelspec": {
   "display_name": "Python 3",
   "language": "python",
   "name": "python3"
  },
  "language_info": {
   "codemirror_mode": {
    "name": "ipython",
    "version": 3
   },
   "file_extension": ".py",
   "mimetype": "text/x-python",
   "name": "python",
   "nbconvert_exporter": "python",
   "pygments_lexer": "ipython3",
   "version": "3.6.6"
  }
 },
 "nbformat": 4,
 "nbformat_minor": 2
}
