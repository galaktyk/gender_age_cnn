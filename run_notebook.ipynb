{
 "cells": [
  {
   "cell_type": "code",
   "execution_count": 24,
   "metadata": {},
   "outputs": [],
   "source": [
    "import numpy as np\n",
    "import cv2\n",
    "from keras import backend as K\n",
    "from keras.layers import Input, Dense, Flatten, Dropout, Concatenate\n",
    "from keras.models import Model\n",
    "import keras\n",
    "from keras.layers.convolutional import Conv2D\n",
    "from keras.layers.pooling import MaxPooling2D\n",
    "from keras.layers.normalization import BatchNormalization\n",
    "\n",
    "from keras.preprocessing.image import load_img,img_to_array\n",
    "from keras.optimizers import Adam,SGD\n",
    "from numpy import genfromtxt\n",
    "from keras.models import load_model\n",
    "%matplotlib inline\n",
    "import matplotlib.pyplot as plt\n",
    "from keras import regularizers\n",
    "import sys"
   ]
  },
  {
   "cell_type": "code",
   "execution_count": 29,
   "metadata": {},
   "outputs": [],
   "source": [
    "def create_model():\n",
    "    input_im = Input(shape=(128,128,3))\n",
    "\n",
    "    conv1 = Conv2D(96, kernel_size=7, activation='relu')(input_im)\n",
    "    pool1 = MaxPooling2D(pool_size=(2, 2))(conv1)\n",
    "\n",
    "    conv2 = Conv2D(256, kernel_size=5, activation='relu')(pool1)\n",
    "    pool2 = MaxPooling2D(pool_size=(2, 2))(conv2)\n",
    "    drop1 = Dropout(0.25)(pool2)\n",
    "\n",
    "\n",
    "    conv3 = Conv2D(384, kernel_size=3, activation='relu')(drop1)\n",
    "    pool3 = MaxPooling2D(pool_size=(2, 2))(conv3)\n",
    "    drop2 = Dropout(0.25)(pool3)\n",
    "  \n",
    "    \n",
    "    dense1 = Dense(1024, activation='relu')(drop2)    \n",
    "   \n",
    "    flat1 = Flatten()(dense1)\n",
    "        \n",
    "    gen = Dense(2, activation='softmax')(flat1)    \n",
    "    age = Dense(8, activation='softmax')(flat1)\n",
    "\n",
    "    model = Model(inputs=input_im, outputs=[gen,age]) \n",
    "\n",
    "    return model   \n",
    "model=create_model()\n",
    "\n",
    "model.compile(loss='categorical_crossentropy',optimizer='Adam', metrics=['accuracy'])\n"
   ]
  },
  {
   "cell_type": "code",
   "execution_count": 264,
   "metadata": {},
   "outputs": [],
   "source": [
    "# usage : custom_gen(range(0,3000+1))\n",
    "def custom_gen(_anns,use_range,batch_size):\n",
    "    while True:\n",
    "        image_data = []\n",
    "        label_data_gender = []\n",
    "        label_data_age = []\n",
    "        start_indx = np.random.randint(low=use_range[0],high=use_range[-batch_size])\n",
    "        \n",
    "        # Read anns\n",
    "        batch_row = _anns[start_indx:start_indx+batch_size]       \n",
    "                    \n",
    "        \n",
    "        # Read images\n",
    "        for row in batch_row:\n",
    "            im = load_img('images/'+row[0]+'/'+row[2]+'.'+row[1],target_size=(128, 128,3))  #PIL Image          \n",
    "            im = img_to_array(im) # Numpy\n",
    "            im = im/255.\n",
    "            image_data.append(im)               \n",
    "            \n",
    "            label_data_gender.append(np.fromstring(row[5], sep=' ')) # target gender\n",
    "            label_data_age.append(np.fromstring(row[6], sep=' ')) # target gender\n",
    "            \n",
    "   \n",
    "        image_data = np.array(image_data)\n",
    " \n",
    "        \n",
    "        yield( image_data, [label_data_gender,label_data_age] )       \n",
    "        "
   ]
  },
  {
   "cell_type": "code",
   "execution_count": 26,
   "metadata": {},
   "outputs": [
    {
     "name": "stdout",
     "output_type": "stream",
     "text": [
      "train_range :  0 - 10000 \n",
      "val_range 0 - 1332\n"
     ]
    }
   ],
   "source": [
    "# Read CSV annotations\n",
    "train_anns = genfromtxt('anns/'+'train_anns.csv', delimiter=',',dtype=str)\n",
    "val_anns = genfromtxt('anns/'+'val_anns.csv', delimiter=',',dtype=str)\n",
    "np.random.shuffle(train_anns)\n",
    "np.random.shuffle(val_anns)\n",
    "\n",
    "train_range = range(0,10000+1) # all = 10000\n",
    "val_range = range(0,1332+1) # all = 1332\n",
    "\n",
    "print('train_range : ',train_range[0],'-',train_range[-1],\\\n",
    "      '\\nval_range',val_range[0],'-',val_range[-1])\n",
    "batch_size = 16"
   ]
  },
  {
   "cell_type": "markdown",
   "metadata": {},
   "source": [
    "# TRAIN"
   ]
  },
  {
   "cell_type": "code",
   "execution_count": null,
   "metadata": {},
   "outputs": [],
   "source": [
    "history = model.fit_generator(\n",
    "        custom_gen(train_anns,train_range,batch_size), \n",
    "        steps_per_epoch=max(1, len(train_range)//batch_size),\n",
    "        epochs=10,        \n",
    "        validation_data=custom_gen(val_anns,val_range,batch_size),\n",
    "        validation_steps=max(1, len(val_range)//batch_size),)"
   ]
  },
  {
   "cell_type": "markdown",
   "metadata": {},
   "source": [
    "# TEST"
   ]
  },
  {
   "cell_type": "code",
   "execution_count": 63,
   "metadata": {},
   "outputs": [
    {
     "name": "stdout",
     "output_type": "stream",
     "text": [
      "test images : 199\n",
      "correct-gender :  169 prob-0.85 \n",
      "correct-age :  118 prob-0.59\n"
     ]
    }
   ],
   "source": [
    "gender_dict = ['m','f']\n",
    "age_dict = ['(0-2)','(4-6)','(8-12)','(15-20)','(25-32)','(38-43)','(48-53)','(60-100)']\n",
    "\n",
    "true_gen = 0\n",
    "true_age = 0 \n",
    "for i in range(0,200):\n",
    "    sys.stdout.write(\"\\r\" + 'test images : '+str(i))\n",
    "    sys.stdout.flush()\n",
    "    #rand_indx = np.random.randint(low=0,high=1333)\n",
    "    #rowp = val_anns[rand_indx]\n",
    "    rowp = val_anns[i]\n",
    "    im_ori = load_img('images/'+rowp[0]+'/'+rowp[2]+'.'+rowp[1],target_size=(128, 128,3))\n",
    "\n",
    "    im = img_to_array(im_ori)\n",
    "    im = im/255.\n",
    "    im = np.expand_dims(im, axis=0)\n",
    "\n",
    "    genderp,agep = model.predict(im ,verbose = 0)\n",
    "    \n",
    "    if rowp[4]==gender_dict[genderp.argmax()]:\n",
    "        true_gen += 1\n",
    "    if rowp[3]==age_dict[agep.argmax()]:\n",
    "        true_age += 1\n",
    "    \n",
    "    \n",
    "    #print(rowp[4]==gender_dict[genderp.argmax()],'\\t',rowp[4],'\\t\\t|',gender_dict[genderp.argmax()],np.amax(genderp))\n",
    "    #print(rowp[3]==age_dict[agep.argmax()],'\\t',rowp[3],'\\t|',age_dict[agep.argmax()],np.amax(agep))\n",
    "\n",
    "    #display(im_ori)\n",
    "   \n",
    "print('\\ncorrect-gender : ','{:d} prob-{:.2f}'.format(true_gen,true_gen/i),\\\n",
    "      '\\ncorrect-age : ','{:d} prob-{:.2f}'.format(true_age,true_age/i)) "
   ]
  },
  {
   "cell_type": "code",
   "execution_count": null,
   "metadata": {},
   "outputs": [],
   "source": []
  },
  {
   "cell_type": "code",
   "execution_count": null,
   "metadata": {},
   "outputs": [],
   "source": [
    "def reset_weights(model):\n",
    "    session = K.get_session()\n",
    "    for layer in model.layers: \n",
    "        if hasattr(layer, 'kernel_initializer'):\n",
    "            layer.kernel.initializer.run(session=session)"
   ]
  },
  {
   "cell_type": "code",
   "execution_count": null,
   "metadata": {},
   "outputs": [],
   "source": [
    "reset_weights(model)"
   ]
  },
  {
   "cell_type": "code",
   "execution_count": null,
   "metadata": {},
   "outputs": [],
   "source": [
    "print (model.get_weights())"
   ]
  },
  {
   "cell_type": "code",
   "execution_count": 301,
   "metadata": {},
   "outputs": [],
   "source": [
    "model.save('my_model.h5')"
   ]
  },
  {
   "cell_type": "code",
   "execution_count": 3,
   "metadata": {},
   "outputs": [],
   "source": [
    "model = load_model('my_model.h5')"
   ]
  },
  {
   "cell_type": "code",
   "execution_count": null,
   "metadata": {},
   "outputs": [],
   "source": []
  },
  {
   "cell_type": "code",
   "execution_count": null,
   "metadata": {},
   "outputs": [],
   "source": []
  },
  {
   "cell_type": "code",
   "execution_count": null,
   "metadata": {},
   "outputs": [],
   "source": []
  },
  {
   "cell_type": "code",
   "execution_count": null,
   "metadata": {},
   "outputs": [],
   "source": []
  },
  {
   "cell_type": "code",
   "execution_count": null,
   "metadata": {},
   "outputs": [],
   "source": []
  },
  {
   "cell_type": "code",
   "execution_count": null,
   "metadata": {},
   "outputs": [],
   "source": []
  }
 ],
 "metadata": {
  "kernelspec": {
   "display_name": "Python 3",
   "language": "python",
   "name": "python3"
  },
  "language_info": {
   "codemirror_mode": {
    "name": "ipython",
    "version": 3
   },
   "file_extension": ".py",
   "mimetype": "text/x-python",
   "name": "python",
   "nbconvert_exporter": "python",
   "pygments_lexer": "ipython3",
   "version": "3.6.6"
  }
 },
 "nbformat": 4,
 "nbformat_minor": 2
}
