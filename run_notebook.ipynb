{
  "nbformat": 4,
  "nbformat_minor": 0,
  "metadata": {
    "colab": {
      "name": "age_gender_own define",
      "version": "0.3.2",
      "provenance": [],
      "collapsed_sections": [],
      "toc_visible": true
    },
    "kernelspec": {
      "name": "python3",
      "display_name": "Python 3"
    },
    "accelerator": "TPU"
  },
  "cells": [
    {
      "metadata": {
        "id": "tLVZQdTBH_OQ",
        "colab_type": "code",
        "outputId": "aad04af3-0c48-46b4-b622-032f380bc442",
        "colab": {
          "base_uri": "https://localhost:8080/",
          "height": 34
        }
      },
      "cell_type": "code",
      "source": [
        "import numpy as np\n",
        "import cv2\n",
        "import os\n",
        "from tensorflow.keras import applications\n",
        "from tensorflow.contrib.keras import backend as K\n",
        "from tensorflow.keras.layers import Input, Dense, Flatten, Dropout, Concatenate, BatchNormalization\n",
        "from tensorflow.keras.models import Model\n",
        "import tensorflow.keras\n",
        "from tensorflow.keras.layers import Conv2D\n",
        "from tensorflow.keras.layers import MaxPooling2D\n",
        "\n",
        "from tensorflow.keras.callbacks import EarlyStopping\n",
        "from tensorflow.keras.preprocessing.image import load_img,img_to_array\n",
        "from tensorflow.keras.optimizers import Adam,SGD\n",
        "from numpy import genfromtxt\n",
        "from tensorflow.keras.models import load_model\n",
        "%matplotlib inline\n",
        "import matplotlib.pyplot as plt\n",
        "from tensorflow.keras import regularizers\n",
        "from PIL import Image\n",
        "import sys\n",
        "from IPython.display import SVG\n",
        "from keras.utils.vis_utils import model_to_dot\n",
        "import tensorflow as tf\n",
        "tf.test.gpu_device_name()"
      ],
      "execution_count": 7,
      "outputs": [
        {
          "output_type": "execute_result",
          "data": {
            "text/plain": [
              "''"
            ]
          },
          "metadata": {
            "tags": []
          },
          "execution_count": 7
        }
      ]
    },
    {
      "metadata": {
        "id": "6k1AxzPNchjC",
        "colab_type": "code",
        "colab": {}
      },
      "cell_type": "code",
      "source": [
        "def custom_age_loss(y_true, y_pred): \n",
        "  \n",
        "    true = K.sum(y_true * K.arange(0, 8, dtype=\"float32\"), axis=-1)\n",
        "    mean_pred = K.sum(y_pred * K.arange(0, 8, dtype=\"float32\"), axis=-1)\n",
        "    mean_loss = K.abs(true - mean_pred)    \n",
        "\n",
        "    total_loss = mean_loss \n",
        "\n",
        "    return total_loss"
      ],
      "execution_count": 0,
      "outputs": []
    },
    {
      "metadata": {
        "id": "D2U40dZMH_OZ",
        "colab_type": "code",
        "colab": {}
      },
      "cell_type": "code",
      "source": [
        "K.clear_session()\n",
        "\n",
        "input_im = Input(shape=(256,256,3))\n",
        "\n",
        "# Block 1\n",
        "x = Conv2D(64, (3, 3),activation='relu',padding='same',name='block1_conv1')(input_im)\n",
        "x = Conv2D(64, (3, 3),activation='relu',padding='same',name='block1_conv2')(x)\n",
        "x = MaxPooling2D((2, 2), strides=(2, 2), name='block1_pool')(x)\n",
        "\n",
        "# Block 2\n",
        "x = Conv2D(128, (3, 3),activation='relu',padding='same',name='block2_conv1')(x)\n",
        "x = Conv2D(128, (3, 3),activation='relu',padding='same',name='block2_conv2')(x)\n",
        "x = MaxPooling2D((2, 2), strides=(2, 2), name='block2_pool')(x)\n",
        "\n",
        "# Block 3\n",
        "x = Conv2D(256, (3, 3),activation='relu',padding='same',name='block3_conv1')(x)\n",
        "x = Conv2D(256, (3, 3),activation='relu',padding='same',name='block3_conv2')(x)\n",
        "x = Conv2D(256, (3, 3),activation='relu',padding='same',name='block3_conv3')(x)\n",
        "x = Conv2D(256, (3, 3),activation='relu',padding='same',name='block3_conv4')(x)\n",
        "x = MaxPooling2D((2, 2), strides=(2, 2), name='block3_pool')(x)\n",
        "\n",
        "# Block 4\n",
        "x = Conv2D(512, (3, 3),activation='relu',padding='same',name='block4_conv1')(x)\n",
        "x = Conv2D(512, (3, 3),activation='relu',padding='same',name='block4_conv2')(x)\n",
        "x = Conv2D(512, (3, 3),activation='relu',padding='same',name='block4_conv3')(x)\n",
        "x = Conv2D(512, (3, 3),activation='relu',padding='same',name='block4_conv4')(x)\n",
        "x = MaxPooling2D((2, 2), strides=(2, 2), name='block4_pool')(x)\n",
        "\n",
        "# Block 5\n",
        "x = Conv2D(512, (3, 3),activation='relu',padding='same',name='block5_conv1')(x)\n",
        "x = Conv2D(512, (3, 3),activation='relu',padding='same',name='block5_conv2')(x)\n",
        "x = Conv2D(512, (3, 3),activation='relu',padding='same',name='block5_conv3')(x)\n",
        "x = Conv2D(512, (3, 3),activation='relu',padding='same',name='block5_conv4')(x)\n",
        "x = MaxPooling2D((2, 2), strides=(2, 2), name='block5_pool')(x)\n",
        "\n",
        "# My Mod\n",
        "x = Flatten()(x)\n",
        "x = Dense(1024, activation=\"relu\")(x)\n",
        "x = Dropout(0.5)(x)\n",
        "x = Dense(1024, activation=\"relu\")(x)\n",
        "gen = Dense(2, activation=\"softmax\",name='gen')(x)\n",
        "age = Dense(8, activation=\"softmax\",name='age')(x)\n",
        "\n",
        "model = Model(inputs = input_im, outputs = [gen,age])\n",
        "\n",
        "\n",
        "#model.compile(loss='categorical_crossentropy',optimizer='Adam', metrics=['accuracy'])\n",
        "SVG(model_to_dot(model,show_shapes=True).create(prog='dot', format='svg'))"
      ],
      "execution_count": 0,
      "outputs": []
    },
    {
      "metadata": {
        "id": "bvmSV1kARiy-",
        "colab_type": "code",
        "colab": {}
      },
      "cell_type": "code",
      "source": [
        "\n",
        "model.compile(\n",
        "    optimizer=tf.train.GradientDescentOptimizer (learning_rate=1e-2, ),\n",
        "    loss = {'gen':'binary_crossentropy','age':custom_age_loss} ,\n",
        "    metrics=['accuracy']    \n",
        ")\n",
        "\n",
        "model = tf.contrib.tpu.keras_to_tpu_model(\n",
        "    model,\n",
        "    strategy=tf.contrib.tpu.TPUDistributionStrategy(\n",
        "        tf.contrib.cluster_resolver.TPUClusterResolver(tpu='grpc://' + os.environ['COLAB_TPU_ADDR'])\n",
        "    ))\n",
        "\n",
        "#model.summary()"
      ],
      "execution_count": 0,
      "outputs": []
    },
    {
      "metadata": {
        "id": "79TVMqUBH_Of",
        "colab_type": "code",
        "colab": {}
      },
      "cell_type": "code",
      "source": [
        "# usage : custom_gen(range(0,3000+1))\n",
        "def custom_gen(_anns,use_range,batch_size):\n",
        "    while True:\n",
        "        image_data = []\n",
        "        label_data_gender = []\n",
        "        label_data_age = []\n",
        "        start_indx = np.random.randint(low=use_range[0],high=use_range[-batch_size])\n",
        "        \n",
        "        # Read anns\n",
        "        batch_row = _anns[start_indx:start_indx+batch_size]       \n",
        "                    \n",
        "        \n",
        "        # Read images\n",
        "        for row in batch_row:\n",
        "            im = load_img('dataset/'+row[0]+'/coarse_tilt_aligned_face.'+row[2]+'.'+row[1],target_size=(256, 256,3))  #PIL Image\n",
        "            if np.random.randint(low=0,high=2):\n",
        "                im = im.transpose(Image.FLIP_LEFT_RIGHT)  \n",
        "            im = img_to_array(im) # Numpy\n",
        "            im = im/255.\n",
        "            image_data.append(im)               \n",
        "            \n",
        "            label_data_gender.append(np.fromstring(row[5], sep=' ')) # target gender\n",
        "            label_data_age.append(np.fromstring(row[6], sep=' ')) # target gender\n",
        "            \n",
        "   \n",
        "        image_data = np.array(image_data)\n",
        " \n",
        "        \n",
        "        yield( image_data, [label_data_age ])       \n",
        "        "
      ],
      "execution_count": 0,
      "outputs": []
    },
    {
      "metadata": {
        "id": "GOVQbhpBH_Ok",
        "colab_type": "code",
        "outputId": "c7ba4dea-b130-4985-c739-e643eacbd091",
        "colab": {
          "base_uri": "https://localhost:8080/",
          "height": 51
        }
      },
      "cell_type": "code",
      "source": [
        "# Read CSV annotations\n",
        "train_anns = genfromtxt('anns/'+'train_anns.csv', delimiter=',',dtype=str)\n",
        "val_anns = genfromtxt('anns/'+'val_anns.csv', delimiter=',',dtype=str)\n",
        "np.random.shuffle(train_anns)\n",
        "np.random.shuffle(val_anns)\n",
        "\n",
        "train_range = range(0,10000+1) # all = 10000\n",
        "val_range = range(0,1332+1) # all = 1332\n",
        "\n",
        "print('train_range : ',train_range[0],'-',train_range[-1],\\\n",
        "      '\\nval_range',val_range[0],'-',val_range[-1])\n",
        "batch_size = 128"
      ],
      "execution_count": 0,
      "outputs": [
        {
          "output_type": "stream",
          "text": [
            "train_range :  0 - 10000 \n",
            "val_range 0 - 1332\n"
          ],
          "name": "stdout"
        }
      ]
    },
    {
      "metadata": {
        "id": "0uc38uwKH_Oq",
        "colab_type": "text"
      },
      "cell_type": "markdown",
      "source": [
        "# TRAIN"
      ]
    },
    {
      "metadata": {
        "id": "OTQwLxk7H_Os",
        "colab_type": "code",
        "colab": {}
      },
      "cell_type": "code",
      "source": [
        "history = model.fit_generator(\n",
        "        custom_gen(train_anns,train_range,batch_size), \n",
        "        steps_per_epoch=max(1, len(train_range)//batch_size),\n",
        "        epochs=30,        \n",
        "        validation_data=custom_gen(val_anns,val_range,batch_size),\n",
        "        validation_steps=max(1, len(val_range)//batch_size))\n"
      ],
      "execution_count": 0,
      "outputs": []
    },
    {
      "metadata": {
        "id": "LMXO3z-zH_Ox",
        "colab_type": "text"
      },
      "cell_type": "markdown",
      "source": [
        "# TEST"
      ]
    },
    {
      "metadata": {
        "id": "N7C9z7fqH_Oz",
        "colab_type": "code",
        "colab": {}
      },
      "cell_type": "code",
      "source": [
        "gender_dict = ['m','f']\n",
        "age_dict = ['(0-2)','(4-6)','(8-12)','(15-20)','(25-32)','(38-43)','(48-53)','(60-100)']\n",
        "\n",
        "true_gen = 0\n",
        "true_age = 0 \n",
        "for b in range(0,1):\n",
        "    image_data = []\n",
        "    sys.stdout.write(\"\\r\" + 'test batch : '+str(b))\n",
        "    sys.stdout.flush()\n",
        "    for i in range(8):\n",
        "        \n",
        "        #rand_indx = np.random.randint(low=0,high=1333)\n",
        "        #rowp = val_anns[rand_indx]\n",
        "        rowp = val_anns[b+i]\n",
        "        im_ori = load_img('dataset/'+rowp[0]+'/coarse_tilt_aligned_face.'+rowp[2]+'.'+rowp[1],target_size=(256, 256,3))        \n",
        "        \n",
        "        if np.random.randint(low=0,high=2):\n",
        "            im_ori = im_ori.transpose(Image.FLIP_LEFT_RIGHT)            \n",
        "        im = img_to_array(im_ori)\n",
        "        \n",
        "  \n",
        "        im = im/255. \n",
        "        #im = np.expand_dims(im, axis=0)\n",
        "        image_data.append(im)\n",
        "    image_data = np.asarray(image_data[:8])\n",
        "  \n",
        "    print('shape = ',image_data.shape)   \n",
        "\n",
        "    [genderp,agep] = model.predict(image_data,use_multiprocessing=False,batch_size=8)\n",
        "    \n",
        "   \n",
        "    \n",
        "    \n",
        "\n",
        "    if rowp[4]==gender_dict[genderp.argmax()]:\n",
        "        true_gen += 1\n",
        "    if rowp[3]==age_dict[agep.argmax()]:\n",
        "        true_age += 1\n",
        "\n",
        "\n",
        "      #print(rowp[4]==gender_dict[genderp.argmax()],'\\t',rowp[4],'\\t\\t|',gender_dict[genderp.argmax()],np.amax(genderp))\n",
        "      #print(rowp[3]==age_dict[agep.argmax()],'\\t',rowp[3],'\\t|',age_dict[agep.argmax()],np.amax(agep))\n",
        "\n",
        "      #display(im_ori)\n",
        "\n",
        "print('\\ncorrect-gender : ','{:d} prob-{:.2f}'.format(true_gen,true_gen/i),\\\n",
        "      '\\ncorrect-age : ','{:d} prob-{:.2f}'.format(true_age,true_age/i)) "
      ],
      "execution_count": 0,
      "outputs": []
    },
    {
      "metadata": {
        "id": "s3vDPUTEH_O5",
        "colab_type": "code",
        "colab": {}
      },
      "cell_type": "code",
      "source": [
        ""
      ],
      "execution_count": 0,
      "outputs": []
    },
    {
      "metadata": {
        "id": "z1d4qK20H_O-",
        "colab_type": "code",
        "colab": {}
      },
      "cell_type": "code",
      "source": [
        "def reset_weights(model):\n",
        "    session = K.get_session()\n",
        "    for layer in model.layers: \n",
        "        if hasattr(layer, 'kernel_initializer'):\n",
        "            layer.kernel.initializer.run(session=session)"
      ],
      "execution_count": 0,
      "outputs": []
    },
    {
      "metadata": {
        "id": "kudkjfYfH_PG",
        "colab_type": "code",
        "colab": {}
      },
      "cell_type": "code",
      "source": [
        "reset_weights(model)"
      ],
      "execution_count": 0,
      "outputs": []
    },
    {
      "metadata": {
        "id": "7ewGUU-9H_PK",
        "colab_type": "code",
        "colab": {}
      },
      "cell_type": "code",
      "source": [
        "print (model.get_weights())"
      ],
      "execution_count": 0,
      "outputs": []
    },
    {
      "metadata": {
        "id": "6-dsUukPH_PP",
        "colab_type": "code",
        "outputId": "e165fef8-0087-4360-dd11-369c1c3abf6c",
        "colab": {
          "base_uri": "https://localhost:8080/",
          "height": 71
        }
      },
      "cell_type": "code",
      "source": [
        "model.save('my_model_findingage.h5')"
      ],
      "execution_count": 0,
      "outputs": [
        {
          "output_type": "stream",
          "text": [
            "INFO:tensorflow:Copying TPU weights to the CPU\n",
            "WARNING:tensorflow:TensorFlow optimizers do not make it possible to access optimizer attributes or optimizer state after instantiation. As a result, we cannot save the optimizer as part of the model save file.You will have to compile your model again after loading it. Prefer using a Keras optimizer instead (see keras.io/optimizers).\n"
          ],
          "name": "stdout"
        }
      ]
    },
    {
      "metadata": {
        "id": "yNr1_dLEH_PT",
        "colab_type": "code",
        "colab": {}
      },
      "cell_type": "code",
      "source": [
        ""
      ],
      "execution_count": 0,
      "outputs": []
    },
    {
      "metadata": {
        "id": "MXAduLFeH_PX",
        "colab_type": "code",
        "colab": {}
      },
      "cell_type": "code",
      "source": [
        "\n",
        "plt.plot(history.history['gen_loss'])\n",
        "plt.title('Model accuracy')\n",
        "plt.ylabel('Accuracy')\n",
        "plt.xlabel('Epoch')\n",
        "\n",
        "plt.show()"
      ],
      "execution_count": 0,
      "outputs": []
    },
    {
      "metadata": {
        "id": "M7_KkQUyH_PZ",
        "colab_type": "code",
        "colab": {}
      },
      "cell_type": "code",
      "source": [
        ""
      ],
      "execution_count": 0,
      "outputs": []
    },
    {
      "metadata": {
        "id": "8b3AAxUTH_Pd",
        "colab_type": "code",
        "colab": {}
      },
      "cell_type": "code",
      "source": [
        "np.savetxt(\"age_loss.txt\", np.array(history.history['age_loss']), delimiter=\",\")"
      ],
      "execution_count": 0,
      "outputs": []
    },
    {
      "metadata": {
        "id": "5W494QEhH_Pr",
        "colab_type": "code",
        "outputId": "72a14692-c76b-4878-aa43-3f051b829f78",
        "colab": {
          "base_uri": "https://localhost:8080/",
          "height": 122
        }
      },
      "cell_type": "code",
      "source": [
        "from google.colab import drive\n",
        "drive.mount('/content/drive/')\n"
      ],
      "execution_count": 0,
      "outputs": [
        {
          "output_type": "stream",
          "text": [
            "Go to this URL in a browser: https://accounts.google.com/o/oauth2/auth?client_id=947318989803-6bn6qk8qdgf4n4g3pfee6491hc0brc4i.apps.googleusercontent.com&redirect_uri=urn%3Aietf%3Awg%3Aoauth%3A2.0%3Aoob&scope=email%20https%3A%2F%2Fwww.googleapis.com%2Fauth%2Fdocs.test%20https%3A%2F%2Fwww.googleapis.com%2Fauth%2Fdrive%20https%3A%2F%2Fwww.googleapis.com%2Fauth%2Fdrive.photos.readonly%20https%3A%2F%2Fwww.googleapis.com%2Fauth%2Fpeopleapi.readonly&response_type=code\n",
            "\n",
            "Enter your authorization code:\n",
            "··········\n",
            "Mounted at /content/drive/\n"
          ],
          "name": "stdout"
        }
      ]
    },
    {
      "metadata": {
        "id": "Vg1XKe_XH_Pg",
        "colab_type": "code",
        "colab": {}
      },
      "cell_type": "code",
      "source": [
        "!cp my_model.h5 '/content/drive/My Drive/Classes/year4/image_process/gender_age/gender_age_cnn/my_model255.h5' "
      ],
      "execution_count": 0,
      "outputs": []
    },
    {
      "metadata": {
        "id": "hRgrRaGOH_Pm",
        "colab_type": "code",
        "colab": {}
      },
      "cell_type": "code",
      "source": [
        "!unzip '/content/drive/My Drive/Classes/year4/image_process/gender_age/Desktop.zip'\n",
        "!cp '/content/drive/My Drive/Classes/year4/image_process/gender_age/gender_age_cnn/anns' . -r"
      ],
      "execution_count": 0,
      "outputs": []
    },
    {
      "metadata": {
        "id": "C2ZKt-yyAmWl",
        "colab_type": "code",
        "colab": {}
      },
      "cell_type": "code",
      "source": [
        "!pip install pydot\n",
        "!apt-get install graphviz\n"
      ],
      "execution_count": 0,
      "outputs": []
    },
    {
      "metadata": {
        "id": "y-Tw1LxjZxun",
        "colab_type": "code",
        "outputId": "b0415532-699b-4dff-ef5e-fa789565e54a",
        "colab": {
          "base_uri": "https://localhost:8080/",
          "height": 35
        }
      },
      "cell_type": "code",
      "source": [
        ""
      ],
      "execution_count": 0,
      "outputs": [
        {
          "output_type": "execute_result",
          "data": {
            "text/plain": [
              "1"
            ]
          },
          "metadata": {
            "tags": []
          },
          "execution_count": 36
        }
      ]
    },
    {
      "metadata": {
        "id": "qH_WpT0vZzIQ",
        "colab_type": "code",
        "outputId": "bb5295e9-826f-4273-a9bc-a7db1ea8c045",
        "colab": {
          "base_uri": "https://localhost:8080/",
          "height": 35
        }
      },
      "cell_type": "code",
      "source": [
        "y_true = K.variable([0,0,0,0,0,1,0,0])\n",
        "y_pred = K.variable([0.0,0.8,0.0,0.0,0.0,0.1,0.0,0.1])\n",
        "\n",
        "K.eval(custom_age_loss(y_true,y_pred))\n"
      ],
      "execution_count": 0,
      "outputs": [
        {
          "output_type": "execute_result",
          "data": {
            "text/plain": [
              "13.2"
            ]
          },
          "metadata": {
            "tags": []
          },
          "execution_count": 9
        }
      ]
    },
    {
      "metadata": {
        "id": "saXSn-2HrDvq",
        "colab_type": "code",
        "outputId": "33708f0f-51e2-465e-8bc9-705f61bb9315",
        "colab": {
          "base_uri": "https://localhost:8080/",
          "height": 35
        }
      },
      "cell_type": "code",
      "source": [
        ""
      ],
      "execution_count": 0,
      "outputs": [
        {
          "output_type": "execute_result",
          "data": {
            "text/plain": [
              "2.0"
            ]
          },
          "metadata": {
            "tags": []
          },
          "execution_count": 18
        }
      ]
    },
    {
      "metadata": {
        "id": "Qw6Tk0tWrPnK",
        "colab_type": "code",
        "colab": {}
      },
      "cell_type": "code",
      "source": [
        "!cp my_model256.h5 '/content/drive/My Drive/Classes/' "
      ],
      "execution_count": 0,
      "outputs": []
    },
    {
      "metadata": {
        "id": "zApSy0F04UVJ",
        "colab_type": "code",
        "outputId": "c969e14b-3de2-4d6b-8657-133eaf85e018",
        "colab": {
          "base_uri": "https://localhost:8080/",
          "height": 35
        }
      },
      "cell_type": "code",
      "source": [
        "! ls\n"
      ],
      "execution_count": 0,
      "outputs": [
        {
          "output_type": "stream",
          "text": [
            "anns  dataset  drive  my_model256.h5  sample_data\n"
          ],
          "name": "stdout"
        }
      ]
    },
    {
      "metadata": {
        "id": "9PA2Fa_K1n6C",
        "colab_type": "code",
        "outputId": "12a9d327-40c1-4759-8f4a-ea54b6cb9a31",
        "colab": {
          "base_uri": "https://localhost:8080/",
          "height": 34
        }
      },
      "cell_type": "code",
      "source": [
        "model = load_model('my_model_findingage.h5')"
      ],
      "execution_count": 0,
      "outputs": [
        {
          "output_type": "stream",
          "text": [
            "WARNING:tensorflow:No training configuration found in save file: the model was *not* compiled. Compile it manually.\n"
          ],
          "name": "stdout"
        }
      ]
    },
    {
      "metadata": {
        "id": "qnTAkm11iYYO",
        "colab_type": "code",
        "colab": {}
      },
      "cell_type": "code",
      "source": [
        "model.summary()\n"
      ],
      "execution_count": 0,
      "outputs": []
    },
    {
      "metadata": {
        "id": "Z3EGksSM6ewr",
        "colab_type": "code",
        "colab": {}
      },
      "cell_type": "code",
      "source": [
        ""
      ],
      "execution_count": 0,
      "outputs": []
    }
  ]
}